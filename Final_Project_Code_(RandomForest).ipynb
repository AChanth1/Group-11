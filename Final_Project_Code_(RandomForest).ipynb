{
  "cells": [
    {
      "cell_type": "code",
      "execution_count": null,
      "metadata": {
        "colab": {
          "background_save": true,
          "base_uri": "https://localhost:8080/",
          "height": 38
        },
        "id": "b5JVmAbUW7h7",
        "outputId": "74156560-8f9c-4778-ab2d-68573d0ba4e0"
      },
      "outputs": [
        {
          "data": {
            "text/html": [
              "\n",
              "     <input type=\"file\" id=\"files-59279b79-a5c7-4a4b-a7c0-89e8ad1506ec\" name=\"files[]\" multiple disabled\n",
              "        style=\"border:none\" />\n",
              "     <output id=\"result-59279b79-a5c7-4a4b-a7c0-89e8ad1506ec\">\n",
              "      Upload widget is only available when the cell has been executed in the\n",
              "      current browser session. Please rerun this cell to enable.\n",
              "      </output>\n",
              "      <script>// Copyright 2017 Google LLC\n",
              "//\n",
              "// Licensed under the Apache License, Version 2.0 (the \"License\");\n",
              "// you may not use this file except in compliance with the License.\n",
              "// You may obtain a copy of the License at\n",
              "//\n",
              "//      http://www.apache.org/licenses/LICENSE-2.0\n",
              "//\n",
              "// Unless required by applicable law or agreed to in writing, software\n",
              "// distributed under the License is distributed on an \"AS IS\" BASIS,\n",
              "// WITHOUT WARRANTIES OR CONDITIONS OF ANY KIND, either express or implied.\n",
              "// See the License for the specific language governing permissions and\n",
              "// limitations under the License.\n",
              "\n",
              "/**\n",
              " * @fileoverview Helpers for google.colab Python module.\n",
              " */\n",
              "(function(scope) {\n",
              "function span(text, styleAttributes = {}) {\n",
              "  const element = document.createElement('span');\n",
              "  element.textContent = text;\n",
              "  for (const key of Object.keys(styleAttributes)) {\n",
              "    element.style[key] = styleAttributes[key];\n",
              "  }\n",
              "  return element;\n",
              "}\n",
              "\n",
              "// Max number of bytes which will be uploaded at a time.\n",
              "const MAX_PAYLOAD_SIZE = 100 * 1024;\n",
              "\n",
              "function _uploadFiles(inputId, outputId) {\n",
              "  const steps = uploadFilesStep(inputId, outputId);\n",
              "  const outputElement = document.getElementById(outputId);\n",
              "  // Cache steps on the outputElement to make it available for the next call\n",
              "  // to uploadFilesContinue from Python.\n",
              "  outputElement.steps = steps;\n",
              "\n",
              "  return _uploadFilesContinue(outputId);\n",
              "}\n",
              "\n",
              "// This is roughly an async generator (not supported in the browser yet),\n",
              "// where there are multiple asynchronous steps and the Python side is going\n",
              "// to poll for completion of each step.\n",
              "// This uses a Promise to block the python side on completion of each step,\n",
              "// then passes the result of the previous step as the input to the next step.\n",
              "function _uploadFilesContinue(outputId) {\n",
              "  const outputElement = document.getElementById(outputId);\n",
              "  const steps = outputElement.steps;\n",
              "\n",
              "  const next = steps.next(outputElement.lastPromiseValue);\n",
              "  return Promise.resolve(next.value.promise).then((value) => {\n",
              "    // Cache the last promise value to make it available to the next\n",
              "    // step of the generator.\n",
              "    outputElement.lastPromiseValue = value;\n",
              "    return next.value.response;\n",
              "  });\n",
              "}\n",
              "\n",
              "/**\n",
              " * Generator function which is called between each async step of the upload\n",
              " * process.\n",
              " * @param {string} inputId Element ID of the input file picker element.\n",
              " * @param {string} outputId Element ID of the output display.\n",
              " * @return {!Iterable<!Object>} Iterable of next steps.\n",
              " */\n",
              "function* uploadFilesStep(inputId, outputId) {\n",
              "  const inputElement = document.getElementById(inputId);\n",
              "  inputElement.disabled = false;\n",
              "\n",
              "  const outputElement = document.getElementById(outputId);\n",
              "  outputElement.innerHTML = '';\n",
              "\n",
              "  const pickedPromise = new Promise((resolve) => {\n",
              "    inputElement.addEventListener('change', (e) => {\n",
              "      resolve(e.target.files);\n",
              "    });\n",
              "  });\n",
              "\n",
              "  const cancel = document.createElement('button');\n",
              "  inputElement.parentElement.appendChild(cancel);\n",
              "  cancel.textContent = 'Cancel upload';\n",
              "  const cancelPromise = new Promise((resolve) => {\n",
              "    cancel.onclick = () => {\n",
              "      resolve(null);\n",
              "    };\n",
              "  });\n",
              "\n",
              "  // Wait for the user to pick the files.\n",
              "  const files = yield {\n",
              "    promise: Promise.race([pickedPromise, cancelPromise]),\n",
              "    response: {\n",
              "      action: 'starting',\n",
              "    }\n",
              "  };\n",
              "\n",
              "  cancel.remove();\n",
              "\n",
              "  // Disable the input element since further picks are not allowed.\n",
              "  inputElement.disabled = true;\n",
              "\n",
              "  if (!files) {\n",
              "    return {\n",
              "      response: {\n",
              "        action: 'complete',\n",
              "      }\n",
              "    };\n",
              "  }\n",
              "\n",
              "  for (const file of files) {\n",
              "    const li = document.createElement('li');\n",
              "    li.append(span(file.name, {fontWeight: 'bold'}));\n",
              "    li.append(span(\n",
              "        `(${file.type || 'n/a'}) - ${file.size} bytes, ` +\n",
              "        `last modified: ${\n",
              "            file.lastModifiedDate ? file.lastModifiedDate.toLocaleDateString() :\n",
              "                                    'n/a'} - `));\n",
              "    const percent = span('0% done');\n",
              "    li.appendChild(percent);\n",
              "\n",
              "    outputElement.appendChild(li);\n",
              "\n",
              "    const fileDataPromise = new Promise((resolve) => {\n",
              "      const reader = new FileReader();\n",
              "      reader.onload = (e) => {\n",
              "        resolve(e.target.result);\n",
              "      };\n",
              "      reader.readAsArrayBuffer(file);\n",
              "    });\n",
              "    // Wait for the data to be ready.\n",
              "    let fileData = yield {\n",
              "      promise: fileDataPromise,\n",
              "      response: {\n",
              "        action: 'continue',\n",
              "      }\n",
              "    };\n",
              "\n",
              "    // Use a chunked sending to avoid message size limits. See b/62115660.\n",
              "    let position = 0;\n",
              "    do {\n",
              "      const length = Math.min(fileData.byteLength - position, MAX_PAYLOAD_SIZE);\n",
              "      const chunk = new Uint8Array(fileData, position, length);\n",
              "      position += length;\n",
              "\n",
              "      const base64 = btoa(String.fromCharCode.apply(null, chunk));\n",
              "      yield {\n",
              "        response: {\n",
              "          action: 'append',\n",
              "          file: file.name,\n",
              "          data: base64,\n",
              "        },\n",
              "      };\n",
              "\n",
              "      let percentDone = fileData.byteLength === 0 ?\n",
              "          100 :\n",
              "          Math.round((position / fileData.byteLength) * 100);\n",
              "      percent.textContent = `${percentDone}% done`;\n",
              "\n",
              "    } while (position < fileData.byteLength);\n",
              "  }\n",
              "\n",
              "  // All done.\n",
              "  yield {\n",
              "    response: {\n",
              "      action: 'complete',\n",
              "    }\n",
              "  };\n",
              "}\n",
              "\n",
              "scope.google = scope.google || {};\n",
              "scope.google.colab = scope.google.colab || {};\n",
              "scope.google.colab._files = {\n",
              "  _uploadFiles,\n",
              "  _uploadFilesContinue,\n",
              "};\n",
              "})(self);\n",
              "</script> "
            ],
            "text/plain": [
              "<IPython.core.display.HTML object>"
            ]
          },
          "metadata": {},
          "output_type": "display_data"
        }
      ],
      "source": [
        "import pandas as pd\n",
        "from google.colab import files\n",
        "\n",
        "# Upload the dataset\n",
        "uploaded = files.upload()"
      ]
    },
    {
      "cell_type": "code",
      "execution_count": null,
      "metadata": {
        "id": "NHpXdPs5XHzp"
      },
      "outputs": [],
      "source": [
        "df = pd.read_csv('DPIC Execution Database - U.S. Executions (1) (1).csv')\n",
        "df.head()"
      ]
    },
    {
      "cell_type": "code",
      "execution_count": null,
      "metadata": {
        "id": "r-ebaBJkXPAR"
      },
      "outputs": [],
      "source": [
        "# Filter neccessary columns\n",
        "df_filtered = df[['Execution Volunteer', 'Region', 'State', 'Execution Date']]\n",
        "df_filtered.head()"
      ]
    },
    {
      "cell_type": "code",
      "execution_count": null,
      "metadata": {
        "id": "Hi7dnWCaXSXZ"
      },
      "outputs": [],
      "source": [
        "# Remove rows where the 'Region' column is 'Northeast'\n",
        "df_filtered = df_filtered[df_filtered['Region'] != 'Northeast']\n",
        "df_filtered.head()"
      ]
    },
    {
      "cell_type": "code",
      "execution_count": null,
      "metadata": {
        "id": "jSjfI_wLXW9M"
      },
      "outputs": [],
      "source": [
        "# Replace rows that have West with Midwest\n",
        "df_filtered['Region'] = df_filtered['Region'].replace(['West'], 'Midwest')\n",
        "\n",
        "print(df_filtered)\n"
      ]
    },
    {
      "cell_type": "code",
      "execution_count": null,
      "metadata": {
        "id": "TxxTMeeAarM6"
      },
      "outputs": [],
      "source": [
        "# Binary encode the 'Execution Volunteer' target variable(column) to map yes to 1 and no to 0\n",
        "df_filtered['Execution Volunteer'] = df_filtered['Execution Volunteer'].map({'yes': 1, 'no': 0})\n",
        "print(df_filtered.head())"
      ]
    },
    {
      "cell_type": "code",
      "execution_count": null,
      "metadata": {
        "id": "7kq2564LcRsD"
      },
      "outputs": [],
      "source": [
        "# One-hot encode the 'Region' column\n",
        "df_encoded = pd.get_dummies(df_filtered, columns=['Region'], prefix='Region')\n",
        "\n",
        "# Ensure only 'Region_Midwest' and 'Region_South' are present\n",
        "df_encoded = df_encoded[['Region_Midwest', 'Region_South'] + [col for col in df_encoded.columns if col not in ['Region_Midwest', 'Region_South']]]\n",
        "\n",
        "# Display the first few rows to confirm encoding\n",
        "print(df_encoded.head())\n"
      ]
    },
    {
      "cell_type": "code",
      "execution_count": null,
      "metadata": {
        "id": "6JwV0XzqdCRP"
      },
      "outputs": [],
      "source": [
        "# Delete the last column\n",
        "df_encoded = df_encoded.iloc[:, :-1]\n",
        "\n",
        "print(df_encoded.head())"
      ]
    },
    {
      "cell_type": "code",
      "execution_count": null,
      "metadata": {
        "id": "ushv-9IudyfQ"
      },
      "outputs": [],
      "source": [
        "# Convert True/False to 1/0 in the entire DataFrame\n",
        "df_encoded[['Region_Midwest', 'Region_South']] = df_encoded[['Region_Midwest', 'Region_South']].astype(int)\n",
        "\n",
        "# Display the first few rows to confirm the changes\n",
        "print(df_encoded.head())\n"
      ]
    },
    {
      "cell_type": "code",
      "execution_count": null,
      "metadata": {
        "id": "Zz52KEqHcWNM"
      },
      "outputs": [],
      "source": [
        "# Downloading the current dataframe\n",
        "#df_encoded.to_csv('df_encoded.csv', index=False)\n",
        "#files.download('df_encoded.csv')"
      ]
    },
    {
      "cell_type": "code",
      "execution_count": null,
      "metadata": {
        "id": "lqd0u8qfhCHX"
      },
      "outputs": [],
      "source": [
        "# Compute the mean of 'Execution Volunteer' for each state\n",
        "state_target_mean = df_encoded.groupby('State')['Execution Volunteer'].mean()\n",
        "\n",
        "# Save the mapping to a separate DataFrame\n",
        "state_mapping = state_target_mean.reset_index()\n",
        "state_mapping.columns = ['State', 'State_Encoded']\n",
        "\n",
        "# Map the mean values back to the 'State' column in the original DataFrame\n",
        "df_encoded['State_Encoded'] = df_encoded['State'].map(state_target_mean)\n",
        "\n",
        "# Display the reference table\n",
        "print(df_encoded.head())\n",
        "print(state_mapping)\n"
      ]
    },
    {
      "cell_type": "code",
      "execution_count": null,
      "metadata": {
        "id": "zxynQ-cPhQmv"
      },
      "outputs": [],
      "source": [
        "# Downloading the current dataframe\n",
        "#df_encoded.to_csv('df_encoded.csv', index=False)\n",
        "#files.download('df_encoded.csv')"
      ]
    },
    {
      "cell_type": "code",
      "execution_count": null,
      "metadata": {
        "id": "DhCbpsiN-3ec"
      },
      "outputs": [],
      "source": [
        "df_encoded['Execution Date'] = pd.to_datetime(df_encoded['Execution Date'], format='%m/%d/%y', errors='coerce')\n",
        "# Changed the format to '%m/%d/%y' to handle 2-digit years\n",
        "# Added errors='coerce' to handle potential parsing errors by setting invalid dates to NaT (Not a Time)\n",
        "print(df_encoded.head())"
      ]
    },
    {
      "cell_type": "code",
      "execution_count": null,
      "metadata": {
        "id": "aSyWwyfiLNTB"
      },
      "outputs": [],
      "source": [
        "legal_change_date = pd.to_datetime('1994-09-13', format='%Y-%m-%d')\n",
        "\n",
        "# Create the flag column 'Pre_or_Post_Legal_Change'\n",
        "df_encoded['Pre_or_Post_Legal_Change'] = (df_encoded['Execution Date'] >= legal_change_date).astype(int)\n",
        "\n",
        "# Display the final Dataframe with the new flag\n",
        "print(\"\\nFinal DataFrame with Pre/Post Flag:\")\n",
        "print(df_encoded[['Execution Date', 'Pre_or_Post_Legal_Change']])"
      ]
    },
    {
      "cell_type": "code",
      "execution_count": null,
      "metadata": {
        "id": "9hTvo4UTNPYh"
      },
      "outputs": [],
      "source": [
        "# Downloading the current dataframe\n",
        "# df_encoded.to_csv('df_encoded.csv', index=False)\n",
        "# files.download('df_encoded.csv')"
      ]
    },
    {
      "cell_type": "code",
      "execution_count": null,
      "metadata": {
        "id": "2ein_HDK5nAj"
      },
      "outputs": [],
      "source": [
        "from sklearn.model_selection import train_test_split\n",
        "\n",
        "# Features and target\n",
        "X = df_encoded[['Region_Midwest', 'Region_South', 'State_Encoded', 'Pre_or_Post_Legal_Change']]\n",
        "y = df_encoded['Execution Volunteer']\n",
        "\n",
        "# Split the dataset\n",
        "X_train, X_test, y_train, y_test = train_test_split(X, y, test_size=0.2, random_state=42)\n",
        "\n",
        "# Display the shapes of the resulting datasets\n",
        "print(f\"Training features shape: {X_train.shape}\")\n",
        "print(f\"Training target shape: {y_train.shape}\")\n",
        "print(f\"Testing features shape: {X_test.shape}\")\n",
        "print(f\"Testing target shape: {y_test.shape}\")"
      ]
    },
    {
      "cell_type": "code",
      "execution_count": null,
      "metadata": {
        "id": "qe1IY0Nkv2iT"
      },
      "outputs": [],
      "source": [
        "print(\"Column Names in Dataset:\\n\", df_encoded.columns)"
      ]
    },
    {
      "cell_type": "code",
      "execution_count": null,
      "metadata": {
        "id": "j6Q0W3vWw5T8"
      },
      "outputs": [],
      "source": [
        "# Apply SMOTE(Sunthetic Minority Oversampling Technique) since the data is imbalanced\n",
        "\n",
        "from imblearn.over_sampling import SMOTE\n",
        "\n",
        "# Apply SMOTE to the training data\n",
        "smote = SMOTE(random_state=42)\n",
        "X_train_resampled, y_train_resampled = smote.fit_resample(X_train, y_train)\n",
        "\n",
        "# Display the shapes of the resampled datasets\n",
        "print(f\"Resampled Training features shape: {X_train_resampled.shape}\")\n",
        "print(f\"Resampled Training target shape: {y_train_resampled.shape}\")"
      ]
    },
    {
      "cell_type": "code",
      "execution_count": null,
      "metadata": {
        "id": "x4jUIOYExNxa"
      },
      "outputs": [],
      "source": []
    },
    {
      "cell_type": "code",
      "execution_count": null,
      "metadata": {
        "id": "ZshQ9N0IP_9B"
      },
      "outputs": [],
      "source": [
        "# Trying Random Forest\n",
        "from sklearn.ensemble import RandomForestClassifier\n",
        "from sklearn.metrics import accuracy_score, confusion_matrix, classification_report\n",
        "\n",
        "# Instantiate the Random Forest Classifier\n",
        "rf_model = RandomForestClassifier(class_weight='balanced', random_state=42)\n",
        "\n",
        "# Train the model on the training data\n",
        "rf_model.fit(X_train, y_train)\n",
        "\n",
        "# Predictions on the test data\n",
        "y_pred_rf = rf_model.predict(X_test)\n",
        "\n",
        "# Evaluate model performance\n",
        "print(\"Confusion Matrix (Random Forest):\")\n",
        "print(confusion_matrix(y_test, y_pred_rf))\n",
        "\n",
        "print(\"\\nClassification Report (Random Forest):\")\n",
        "print(classification_report(y_test, y_pred_rf))\n",
        "\n",
        "print(\"\\nAccuracy Score (Random Forest):\")\n",
        "print(accuracy_score(y_test, y_pred_rf))"
      ]
    }
  ],
  "metadata": {
    "colab": {
      "provenance": []
    },
    "kernelspec": {
      "display_name": "Python 3",
      "name": "python3"
    },
    "language_info": {
      "name": "python"
    }
  },
  "nbformat": 4,
  "nbformat_minor": 0
}